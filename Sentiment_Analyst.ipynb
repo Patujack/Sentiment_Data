{
 "cells": [
  {
   "cell_type": "code",
   "execution_count": 9,
   "metadata": {},
   "outputs": [
    {
     "data": {
      "text/html": [
       "<div>\n",
       "<style scoped>\n",
       "    .dataframe tbody tr th:only-of-type {\n",
       "        vertical-align: middle;\n",
       "    }\n",
       "\n",
       "    .dataframe tbody tr th {\n",
       "        vertical-align: top;\n",
       "    }\n",
       "\n",
       "    .dataframe thead th {\n",
       "        text-align: right;\n",
       "    }\n",
       "</style>\n",
       "<table border=\"1\" class=\"dataframe\">\n",
       "  <thead>\n",
       "    <tr style=\"text-align: right;\">\n",
       "      <th></th>\n",
       "      <th>Tweets</th>\n",
       "      <th>cleanedTweets</th>\n",
       "    </tr>\n",
       "  </thead>\n",
       "  <tbody>\n",
       "    <tr>\n",
       "      <th>0</th>\n",
       "      <td>I JUST WANT NEW RIHANNA MUSIC</td>\n",
       "      <td>I JUST WANT NEW RIHANNA MUSIC</td>\n",
       "    </tr>\n",
       "    <tr>\n",
       "      <th>1</th>\n",
       "      <td>@tbtstwsocial Here's the latest from Rihanna.\\...</td>\n",
       "      <td>Here's the latest from Rihanna.</td>\n",
       "    </tr>\n",
       "    <tr>\n",
       "      <th>2</th>\n",
       "      <td>@rihanna @BritishVogue @inezandvinoodh Congrat...</td>\n",
       "      <td>Congrats riri! 🥰</td>\n",
       "    </tr>\n",
       "    <tr>\n",
       "      <th>3</th>\n",
       "      <td>qui se rappelle que jai vu rihanna en concert ...</td>\n",
       "      <td>qui se rappelle que jai vu rihanna en concert ...</td>\n",
       "    </tr>\n",
       "    <tr>\n",
       "      <th>4</th>\n",
       "      <td>Rihanna aumenta sus reproducciones en Spotify ...</td>\n",
       "      <td>Rihanna aumenta sus reproducciones en Spotify ...</td>\n",
       "    </tr>\n",
       "  </tbody>\n",
       "</table>\n",
       "</div>"
      ],
      "text/plain": [
       "                                              Tweets  \\\n",
       "0                      I JUST WANT NEW RIHANNA MUSIC   \n",
       "1  @tbtstwsocial Here's the latest from Rihanna.\\...   \n",
       "2  @rihanna @BritishVogue @inezandvinoodh Congrat...   \n",
       "3  qui se rappelle que jai vu rihanna en concert ...   \n",
       "4  Rihanna aumenta sus reproducciones en Spotify ...   \n",
       "\n",
       "                                       cleanedTweets  \n",
       "0                      I JUST WANT NEW RIHANNA MUSIC  \n",
       "1                  Here's the latest from Rihanna.    \n",
       "2                                   Congrats riri! 🥰  \n",
       "3  qui se rappelle que jai vu rihanna en concert ...  \n",
       "4  Rihanna aumenta sus reproducciones en Spotify ...  "
      ]
     },
     "execution_count": 9,
     "metadata": {},
     "output_type": "execute_result"
    }
   ],
   "source": [
    "#Import libraries\n",
    "from datetime import date\n",
    "import snscrape.modules.twitter as sntwitter\n",
    "import pandas as pd\n",
    "import numpy as np\n",
    "from textblob import  TextBlob\n",
    "from wordcloud import WordCloud\n",
    "import re\n",
    "import matplotlib.pyplot as plt\n",
    "import seaborn as sns\n",
    "plt.style.use('fivethirtyeight')\n",
    "import nltk\n",
    "from nltk.stem.snowball import SnowballStemmer\n",
    "from nltk.corpus import stopwords\n",
    "import spacy\n",
    "nlp = spacy.load(\"en_core_web_sm\")\n",
    "\n",
    "#Scrapping the tweets - Create a list to append tweet data\n",
    "tweets_list = []\n",
    "maxTweets = 100\n",
    "\n",
    "#Using TwitterSearchScraper to scrape data and append tweets to list \n",
    "for i, tweet in enumerate(sntwitter.TwitterSearchScraper('Rihanna').get_items()):\n",
    "    if i == maxTweets:\n",
    "        break\n",
    "    tweets_list.append([tweet.rawContent])\n",
    "\n",
    "#Creating a dataframe from the tweets list above\n",
    "\n",
    "tweets_to_df = pd.DataFrame(tweets_list, columns=[\"Tweets\"])\n",
    "\n",
    "tweets_to_df.head() #list first five tweets\n",
    "\n",
    "#clean the tweets with a function\n",
    "\n",
    "def cleanTweets(text):\n",
    "    text = re.sub('@[A-Za-z0-9_]+', '', text) #remove @mentions\n",
    "    text = re.sub('#', '', text) #removes hastag '#' symbol\n",
    "    text = re.sub('RT[\\s]+', '',text)\n",
    "    text = re.sub('https?:\\/\\/\\S+', '', text)\n",
    "    text = re.sub('\\n',' ', text)\n",
    "    return text\n",
    "tweets_to_df['cleanedTweets'] = tweets_to_df['Tweets'].apply(cleanTweets) #apply cleanTweet function to the tweet\n",
    "tweets_to_df.head() #compares original theets with cleaned tweets"
   ]
  }
 ],
 "metadata": {
  "kernelspec": {
   "display_name": "Python 3",
   "language": "python",
   "name": "python3"
  },
  "language_info": {
   "codemirror_mode": {
    "name": "ipython",
    "version": 3
   },
   "file_extension": ".py",
   "mimetype": "text/x-python",
   "name": "python",
   "nbconvert_exporter": "python",
   "pygments_lexer": "ipython3",
   "version": "3.10.5"
  },
  "orig_nbformat": 4,
  "vscode": {
   "interpreter": {
    "hash": "107d7b120a5b68773a87d4067e673630b35702e55ebab3138143d08b1c4d7cbc"
   }
  }
 },
 "nbformat": 4,
 "nbformat_minor": 2
}
